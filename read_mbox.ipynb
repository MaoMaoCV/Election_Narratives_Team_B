{
 "cells": [
  {
   "cell_type": "code",
   "execution_count": 1,
   "metadata": {},
   "outputs": [
    {
     "data": {
      "text/plain": [
       "'From 1789661171270937312@xxx Thu Feb 01 02:18:14 +0000 2024\\nX-GM-THRID: 1789661171270937312\\nX-Gmail-Labels: Spam,Category Promotions,Unread\\nDelivered-To: jengabuilding90@gmail.com\\nReceived: by 2002:a05:7300:d027:b0:106:2596:8029 with SMTP id ni39csp150111dyb;\\n        Wed, 31 Jan 2024 18:18:14 -0800 (PST)\\nX-Received: by 2002:a81:bb52:0:b0:5fb:c044:f087 with SMTP id a18-20020a81bb52000000b005fbc044f087mr3234127ywl.35.1706753894003;\\n        Wed, 31 Jan 2024 18:18:14 -0800 (PST)\\nARC-Seal: i=2; a=rsa-sha256; t=1706753893; cv=pass;\\n        d=google.com; s=arc-20160816;\\n        b=rYXtUHzzPuhbR+c1ilMXjQs+Dzc40gDBgVQS+V9o8HTS7hBOTdJzGwkkBOE+pUbcz8\\n         YyVlAwzN93X/GtBNbIjgjMHhvnWHpwLkBTnH14a58PYfHplSi68/NAg2CUck9t+1jPgH\\n         ZVGz9TB88im8rAXhGCKml/Bxo/evkJAFRhMh2BCMjPnJ9RQlKsw3WmLkhrd3jCL3FYo1\\n         kIPPE0MCRMZ/v4uaPnWyqNOOv5HMXFHOTCu1UDhTDfPvQ+zMVhYwJvuB/wvdqjqQzURJ\\n         4w7TaBCKvuYxRzzZAs2BMcvxLfcafFYB+bzKKr8Ysf8dFDILVGE9+QonEvxn2Li+6Una\\n         MZ8g==\\nARC-Message-Signature: i=2; a=rsa-sha256; c=relax'"
      ]
     },
     "execution_count": 1,
     "metadata": {},
     "output_type": "execute_result"
    }
   ],
   "source": [
    "# Let's start by opening and reading a small part of the file to understand its structure\n",
    "file_path = 'All mail Including Spam and Trash.mbox'\n",
    "\n",
    "# Read the first part of the file to understand its structure\n",
    "with open(file_path, 'r', encoding='utf-8') as file:\n",
    "    content_preview = file.read(1024)  # Read the first 1024 characters for a preview\n",
    "\n",
    "content_preview"
   ]
  },
  {
   "cell_type": "code",
   "execution_count": 3,
   "metadata": {},
   "outputs": [
    {
     "data": {
      "text/plain": [
       "('emails_extracted.json',\n",
       " '[\\n    {\\n        \"from\": \"\\\\\"Jacky\\\\\" <info@action.rosenfornevada.com>\",\\n        \"delivered_to\": \"jengabuilding90@gmail.com\",\\n        \"subject\": \"just got word\",\\n        \"date\": \"Thu, 01 Feb 2024 02:18:09 +0000\",\\n        \"labels\": \"Spam,Category Promotions,Unread\"\\n    }\\n]')"
      ]
     },
     "execution_count": 3,
     "metadata": {},
     "output_type": "execute_result"
    }
   ],
   "source": [
    "import mailbox\n",
    "import json\n",
    "\n",
    "# Function to extract key details from an email message\n",
    "def extract_email_details(msg):\n",
    "    details = {\n",
    "        \"from\": msg.get('From', ''),\n",
    "        \"delivered_to\": msg.get('Delivered-To', ''),\n",
    "        \"subject\": msg.get('Subject', ''),\n",
    "        \"date\": msg.get('Date', ''),\n",
    "        \"labels\": msg.get('X-Gmail-Labels', '')\n",
    "    }\n",
    "    return details\n",
    "\n",
    "# Load the mbox file\n",
    "mbox = mailbox.mbox(file_path)\n",
    "\n",
    "# Extract details from each email in the mbox file\n",
    "emails = [extract_email_details(msg) for msg in mbox]\n",
    "\n",
    "# Convert the list of email details to JSON format\n",
    "emails_json = json.dumps(emails, indent=4)\n",
    "\n",
    "# Due to potential size, preview the first email in JSON format instead of printing everything\n",
    "emails_json_preview = json.dumps(emails[:1], indent=4)\n",
    "\n",
    "# Save the full JSON data to a file\n",
    "json_file_path = 'emails_extracted.json'\n",
    "with open(json_file_path, 'w', encoding='utf-8') as json_file:\n",
    "    json_file.write(emails_json)\n",
    "\n",
    "json_file_path, emails_json_preview\n"
   ]
  }
 ],
 "metadata": {
  "kernelspec": {
   "display_name": "base",
   "language": "python",
   "name": "python3"
  },
  "language_info": {
   "codemirror_mode": {
    "name": "ipython",
    "version": 3
   },
   "file_extension": ".py",
   "mimetype": "text/x-python",
   "name": "python",
   "nbconvert_exporter": "python",
   "pygments_lexer": "ipython3",
   "version": "3.11.5"
  }
 },
 "nbformat": 4,
 "nbformat_minor": 2
}
